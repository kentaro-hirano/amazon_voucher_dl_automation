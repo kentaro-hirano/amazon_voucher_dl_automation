{
 "metadata": {
  "language_info": {
   "codemirror_mode": {
    "name": "ipython",
    "version": 3
   },
   "file_extension": ".py",
   "mimetype": "text/x-python",
   "name": "python",
   "nbconvert_exporter": "python",
   "pygments_lexer": "ipython3",
   "version": "3.8.8"
  },
  "orig_nbformat": 2,
  "kernelspec": {
   "name": "python3",
   "display_name": "Python 3.8.8 64-bit ('base': conda)",
   "metadata": {
    "interpreter": {
     "hash": "75e8718f79d7dd323d29fb9b87f9151ac8b4a0fbf3ff674935727354113061b1"
    }
   }
  }
 },
 "nbformat": 4,
 "nbformat_minor": 2,
 "cells": [
  {
   "cell_type": "code",
   "execution_count": 83,
   "metadata": {},
   "outputs": [
    {
     "output_type": "stream",
     "name": "stdout",
     "text": [
      "0\n",
      "1\n",
      "2\n",
      "3\n",
      "4\n",
      "5\n",
      "6\n",
      "7\n",
      "8\n",
      "9\n",
      "0\n",
      "1\n",
      "2\n",
      "3\n",
      "4\n",
      "5\n",
      "6\n",
      "7\n",
      "nextボタンはありません\n",
      "終了しました\n"
     ]
    }
   ],
   "source": [
    "!pip install selenium \n",
    "!brew install chromedriver　\n",
    "\n",
    "from selenium import webdriver \n",
    "from time import sleep \n",
    "\n",
    "options = webdriver.ChromeOptions()\n",
    "\n",
    "options.add_experimental_option(\"prefs\", {\n",
    "    \"download.default_directory\": r\"C:\\Users\\\\hiranokentaro\\\\Documents\\\\Python\\\\amazon_voucheres\"\n",
    "})\n",
    "options.add_argument('--kiosk-printing')\n",
    "\n",
    "browser = webdriver.Chrome(options=options)\n",
    "# browser = webdriver.Chrome()\n",
    "\n",
    "\n",
    "url = \"https://www.amazon.co.jp/ap/signin?openid.pape.max_auth_age=0&openid.return_to=https%3A%2F%2Fwww.amazon.co.jp%2Fgp%2Fhelp%2Fcustomer%2Fdisplay.html%3FnodeId%3DG985MC479RA4YQRL%26ref_%3Dnav_ya_signin&openid.identity=http%3A%2F%2Fspecs.openid.net%2Fauth%2F2.0%2Fidentifier_select&openid.assoc_handle=jpflex&openid.mode=checkid_setup&openid.claimed_id=http%3A%2F%2Fspecs.openid.net%2Fauth%2F2.0%2Fidentifier_select&openid.ns=http%3A%2F%2Fspecs.openid.net%2Fauth%2F2.0&\"\n",
    "browser.get(url)\n",
    "\n",
    "elem_username = browser.find_element_by_id('ap_email') \n",
    "elem_username.send_keys(\"yakyukentaro@icloud.com\")\n",
    "# sleep(1)\n",
    "\n",
    "elem_next_btn = browser.find_element_by_class_name('a-button-input')\n",
    "elem_next_btn.click()\n",
    "# sleep(2)\n",
    "\n",
    "elem_password = browser.find_element_by_id('ap_password') \n",
    "elem_password.send_keys(\"Kiraritown2024\")\n",
    "elem_login_btn = browser.find_element_by_class_name('a-button-input')\n",
    "elem_login_btn.click()\n",
    "\n",
    "sleep(2)\n",
    "elem_order_histroy = browser.find_element_by_id('nav-orders')\n",
    "elem_order_histroy.click()\n",
    "\n",
    "element_order_filter = browser.find_element_by_id('orderFilter')\n",
    "element_entry_year = element_order_filter.find_element_by_id('orderFilterEntry-year-2020')\n",
    "element_entry_year.click()\n",
    "\n",
    "\n",
    "element_voucheres = browser.find_elements_by_class_name('hide-if-no-js')\n",
    "\n",
    "while True:\n",
    "    for num in range(len(element_voucheres)):\n",
    "        print(num)\n",
    "        # print(len(element_voucheres))\n",
    "        element_voucheres = browser.find_elements_by_class_name('hide-if-no-js')\n",
    "        # print(element_voucheres)\n",
    "        element_voucheres[num].click()\n",
    "        sleep(4)\n",
    "        element_get_ul = browser.find_element_by_class_name('a-nowrap') # 領収書リンク内のul取得\n",
    "        element_get_li = element_get_ul.find_elements_by_tag_name('li') # ulの中のliすべて取得\n",
    "        element_get_li[-1].click() # liの中の領収書リンク押下\n",
    "        browser.execute_script('window.print();') # 自動でPDF保存\n",
    "        browser.back() # 前のページに戻る\n",
    "        if num == len(element_voucheres) -1:\n",
    "            # print(\"最後の要素です\")\n",
    "            element_nxt_btn = browser.find_element_by_class_name('a-last')\n",
    "            if len(element_nxt_btn.find_elements_by_tag_name('a')) == 0:\n",
    "                print(\"nextボタンはありません\")   \n",
    "                print(\"終了しました\")\n",
    "                break\n",
    "    else:\n",
    "        element_nxt_btn.click()\n",
    "        continue\n",
    "    break\n",
    "\n",
    "browser.quit()"
   ]
  },
  {
   "cell_type": "code",
   "execution_count": 78,
   "metadata": {},
   "outputs": [],
   "source": [
    "browser.quit()"
   ]
  },
  {
   "cell_type": "code",
   "execution_count": null,
   "metadata": {},
   "outputs": [],
   "source": []
  }
 ]
}